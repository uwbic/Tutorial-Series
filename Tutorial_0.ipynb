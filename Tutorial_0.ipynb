{
 "cells": [
  {
   "cell_type": "markdown",
   "metadata": {},
   "source": [
    "## Table of Contents\n",
    "- <a href='#section_1'>Section 1 - The Jupyter Notebook</a>\n",
    "    - <a href='#1.1'>Section 1.1 - Running a Cell</a>\n",
    "    - <a href='#1.2'>Section 1.2 - Creating Cells</a>\n",
    "- <a href='#section_2'>Section 2 - Using Command Line</a>"
   ]
  },
  {
   "cell_type": "markdown",
   "metadata": {},
   "source": [
    "# Tutorial 0 - Jupyter Basics and Command Line\n",
    "\n",
    "## <a id='section_1'>Section 1 - The Jupyter Notebook</a>\n",
    "\n",
    "Jupyter notebooks provide an interactive programming environment where we can quickly see how our code works. We'll be using jupyter notebooks since they add an incredble level of convenience to our workflow."
   ]
  },
  {
   "cell_type": "markdown",
   "metadata": {},
   "source": [
    "### <a id='1.1'>Section 1.1 - Running a Cell</a>\n",
    "\n",
    "Code is stored in cells in a Jupyter Notebook. You can navigate between cells by using the Up and Down arrow keys. To Run a cell all you need to do is press Shift+Enter.\n",
    "\n",
    "Try running the code in the cell below...."
   ]
  },
  {
   "cell_type": "code",
   "execution_count": 3,
   "metadata": {},
   "outputs": [
    {
     "name": "stdout",
     "output_type": "stream",
     "text": [
      "Hello BIC!\n"
     ]
    }
   ],
   "source": [
    "print(\"Hello BIC!\")"
   ]
  },
  {
   "cell_type": "markdown",
   "metadata": {},
   "source": [
    "### <a id='1.2'>Section 1.2 - Creating Cells</a>\n",
    "\n",
    "To create a new cell, all you have to do is navigate to a cell, click the + button in the toolbar above and the new cell will appear right under the cell you were on.\n",
    "\n",
    "Try to add a cell below this one and have it print() your name...."
   ]
  },
  {
   "cell_type": "markdown",
   "metadata": {},
   "source": [
    "Conversely, cells can be deleted by navigating to a cell and clicking on Edit $\\rightarrow$ Delete Cell"
   ]
  },
  {
   "cell_type": "markdown",
   "metadata": {},
   "source": [
    "## <a id='section_2'>Section 2 - Using Command Line</a>"
   ]
  },
  {
   "cell_type": "code",
   "execution_count": null,
   "metadata": {},
   "outputs": [],
   "source": []
  }
 ],
 "metadata": {
  "kernelspec": {
   "display_name": "Python 3",
   "language": "python",
   "name": "python3"
  },
  "language_info": {
   "codemirror_mode": {
    "name": "ipython",
    "version": 3
   },
   "file_extension": ".py",
   "mimetype": "text/x-python",
   "name": "python",
   "nbconvert_exporter": "python",
   "pygments_lexer": "ipython3",
   "version": "3.6.5"
  }
 },
 "nbformat": 4,
 "nbformat_minor": 2
}
