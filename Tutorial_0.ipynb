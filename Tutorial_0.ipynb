{
 "cells": [
  {
   "cell_type": "markdown",
   "metadata": {},
   "source": [
    "## Table of Contents\n",
    "- <a href='#section_1'>Section 1 - The Jupyter Notebook</a>\n",
    "    - <a href='#1.1'>Section 1.1 - Running a Cell</a>\n",
    "    - <a href='#1.2'>Section 1.2 - Creating Cells</a>\n",
    "- <a href='#section_2'>Section 2 - Using Command Line</a>"
   ]
  },
  {
   "cell_type": "markdown",
   "metadata": {},
   "source": [
    "# Tutorial 0 - Jupyter Basics and Command Line\n",
    "\n",
    "## <a id='section_1'>Section 1 - The Jupyter Notebook</a>\n",
    "\n",
    "Jupyter notebooks provide an interactive programming environment where we can quickly see how our code works. We'll be using jupyter notebooks since they add an incredble level of convenience to our workflow."
   ]
  },
  {
   "cell_type": "markdown",
   "metadata": {},
   "source": [
    "### <a id='1.1'>Section 1.1 - Running a Cell</a>\n",
    "\n",
    "Code is stored in cells in a Jupyter Notebook. You can navigate between cells by using the Up and Down arrow keys. To Run a cell all you need to do is press Shift+Enter.\n",
    "\n",
    "Try running the code in the cell below...."
   ]
  },
  {
   "cell_type": "code",
   "execution_count": 1,
   "metadata": {},
   "outputs": [
    {
     "name": "stdout",
     "output_type": "stream",
     "text": [
      "Hello BIC!\n"
     ]
    }
   ],
   "source": [
    "print(\"Hello BIC!\")"
   ]
  },
  {
   "cell_type": "markdown",
   "metadata": {},
   "source": [
    "### <a id='1.2'>Section 1.2 - Creating Cells</a>\n",
    "\n",
    "To create a new cell, all you have to do is navigate to a cell, click the + button in the toolbar above and the new cell will appear right under the cell you were on.\n",
    "\n",
    "Try to add a cell below this one and have it print() your name...."
   ]
  },
  {
   "cell_type": "code",
   "execution_count": 2,
   "metadata": {},
   "outputs": [
    {
     "name": "stdout",
     "output_type": "stream",
     "text": [
      "Your Name Here\n"
     ]
    }
   ],
   "source": [
    "print(\"Your Name Here\")"
   ]
  },
  {
   "cell_type": "markdown",
   "metadata": {},
   "source": [
    "Conversely, cells can be deleted by navigating to a cell and clicking on Edit $\\rightarrow$ Delete Cell"
   ]
  },
  {
   "cell_type": "markdown",
   "metadata": {},
   "source": [
    "## <a id='section_2'>Section 2 - Using Command Line</a>\n",
    "\n",
    "One of the key features of Linux is the Command Line. It replaces your desktop with a text prompt where you have to type in commands perform all of your actions. It's essentially the same as the Terminal for Mac, or Command Prompt for Windows.\n",
    "\n",
    "Many tools in bioinformatics are only accessible through Command Line. Thankfully, Jupyter allows you to type out Command Line arguments inside of a notebook with ease!\n",
    "\n",
    "All you need to do is place an ! before your Command Line statement.\n",
    "\n",
    "Like this....."
   ]
  },
  {
   "cell_type": "code",
   "execution_count": 3,
   "metadata": {},
   "outputs": [
    {
     "name": "stdout",
     "output_type": "stream",
     "text": [
      "README.md\t  Tutorial_1.ipynb  virus_genome.fasta\n",
      "Tutorial_0.ipynb  img\t\t    virus_protein.fasta\n"
     ]
    }
   ],
   "source": [
    "!ls"
   ]
  },
  {
   "cell_type": "markdown",
   "metadata": {},
   "source": [
    "The `ls` command prints out a list of all the files located in your current directory.\n",
    "\n",
    "Here is a link to a series of Commands that are commonly used.\n",
    "\n",
    "https://gist.github.com/hofmannsven/8392477\n",
    "\n",
    "Look through the commands provided in the link above and find the command that makes new a directory (folder) named `data`. Type that command in a new cell below........"
   ]
  },
  {
   "cell_type": "code",
   "execution_count": 4,
   "metadata": {},
   "outputs": [],
   "source": [
    "!mkdir data"
   ]
  },
  {
   "cell_type": "markdown",
   "metadata": {},
   "source": [
    "We will continue with Command Line and other programming languages such as Python and R in the following tutorials."
   ]
  }
 ],
 "metadata": {
  "kernelspec": {
   "display_name": "Python 3",
   "language": "python",
   "name": "python3"
  },
  "language_info": {
   "codemirror_mode": {
    "name": "ipython",
    "version": 3
   },
   "file_extension": ".py",
   "mimetype": "text/x-python",
   "name": "python",
   "nbconvert_exporter": "python",
   "pygments_lexer": "ipython3",
   "version": "3.7.1"
  }
 },
 "nbformat": 4,
 "nbformat_minor": 2
}
