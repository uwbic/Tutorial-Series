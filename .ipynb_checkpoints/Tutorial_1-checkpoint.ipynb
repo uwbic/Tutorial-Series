{
 "cells": [
  {
   "cell_type": "markdown",
   "metadata": {},
   "source": [
    "## Table of Contents\n",
    "- <a href='#1.0'>Section 1 - Introduction</a>\n",
    "    - <a href='#1.1'>Section 1.1 - Downloading our Data</a>\n",
    "    - <a href='#1.2'>Section 1.2 - Creating Cells</a>\n",
    "- <a href='#section_2'>Section 2 - Using Command Line</a>"
   ]
  },
  {
   "cell_type": "markdown",
   "metadata": {},
   "source": [
    "# Tutorial 1 - Command Line BLAST\n",
    "<img src='img/tut01/ncbi.png'></img>\n",
    "## <a id='1.0'>Section 1 - Introduction</a>\n",
    "\n",
    "If you were ask any bioinformatician about what they think the most important tool they use is, they would all likely say BLAST.\n",
    "\n",
    "But what does BLAST stand for?\n",
    "\n",
    "$B$asic\n",
    "<br>\n",
    "$L$ocal\n",
    "<br>\n",
    "$A$lignment\n",
    "<br>\n",
    "$S$earch\n",
    "<br>\n",
    "$T$ool\n",
    "\n",
    "It is used to search for either Nucleotide (DNA/RNA) or Amino Acid sequences against the entire NCBI database. This is no trivial task since there are millions of sequences currently uploaded to the database. In this tutorial, we will go over the basic architecture behind the NCBI database while going over how the BLAST algorithm works."
   ]
  },
  {
   "cell_type": "markdown",
   "metadata": {},
   "source": [
    "## <a id='1.1'>Section 1.1 - Downloading our Data</a>\n",
    "\n",
    "To save a bit of time, we're not going to run BLAST searches against the entire NCBI database. We're going to download both the genome and proteome for a strain of E. coli called O157H7. The links can be found here....\n",
    "\n",
    "Genome:\n",
    "ftp://ftp.ncbi.nlm.nih.gov/genomes/archive/old_refseq/Bacteria/Escherichia_coli_O157_H7_uid57781/NC_002127.fna\n",
    "\n",
    "Proteome:\n",
    "ftp://ftp.ncbi.nlm.nih.gov/genomes/archive/old_refseq/Bacteria/Escherichia_coli_O157_H7_uid57781/NC_002127.faa\n",
    "\n",
    "When working on a project of your own, it's often faster to download a few of the important sequences you'll be using so that you can use the Commmand Line to run the BLAST algorithm. To do that, we will be using the Command Line function `wget` to download our data. To see all of the options we could use for wget, run the cell below..."
   ]
  },
  {
   "cell_type": "code",
   "execution_count": null,
   "metadata": {},
   "outputs": [],
   "source": [
    "!wget -h"
   ]
  },
  {
   "cell_type": "markdown",
   "metadata": {},
   "source": [
    "Now in the cell below, use one of the `wget` options to download the E. coli genome and proteome into our `data` directory."
   ]
  },
  {
   "cell_type": "code",
   "execution_count": null,
   "metadata": {},
   "outputs": [],
   "source": []
  },
  {
   "cell_type": "markdown",
   "metadata": {},
   "source": []
  }
 ],
 "metadata": {
  "kernelspec": {
   "display_name": "Python 3",
   "language": "python",
   "name": "python3"
  },
  "language_info": {
   "codemirror_mode": {
    "name": "ipython",
    "version": 3
   },
   "file_extension": ".py",
   "mimetype": "text/x-python",
   "name": "python",
   "nbconvert_exporter": "python",
   "pygments_lexer": "ipython3",
   "version": "3.7.1"
  }
 },
 "nbformat": 4,
 "nbformat_minor": 2
}
