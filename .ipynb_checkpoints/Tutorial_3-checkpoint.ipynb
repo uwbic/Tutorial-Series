{
 "cells": [
  {
   "cell_type": "markdown",
   "metadata": {},
   "source": [
    "## Table of Contents\n",
    "- <a href='#1.0'>Section 1 - Introduction and Recap</a>\n",
    "- <a href='#2.0'>Section 2 - Intro to Annotation</a>\n",
    "    - <a href='#2.1'>Section 2.1 - What is Annotation?</a>\n",
    "- <a href='#3.0'>Section 3 - Types of Annotation</a>\n",
    "    - <a href='#3.1'>Section 3.1 - Structural Annotation</a>\n",
    "    - <a href='#3.2'>Section 3.2 - Functional Annotation</a>"
   ]
  },
  {
   "cell_type": "markdown",
   "metadata": {},
   "source": [
    "# Tutorial 3 - Genome Annotation\n",
    "\n",
    "## <a id='1.0'>Section 1 - Introduction and Recap</a>\n",
    "\n",
    "In the last tutorial we touched on sequencing, and how to perform genome assemblies. We also learned about the computational aspects of genome assemblies. Afterwards, we ran a BLAST search on our assembled contigs to identify which strain of E. coli they belong to. We eventually found out that the contigs belonged to a strain called K12.\n",
    "\n",
    "In this tutorial we're going to try and describe the functions in the K12 genome through annotation."
   ]
  },
  {
   "cell_type": "markdown",
   "metadata": {},
   "source": [
    "## <a id='2.0'>Section 2 - Intro to Annotation</a>\n",
    "\n",
    "### <a id='2.0'>Section 2.1 - What is Annotation?</a>\n",
    "\n",
    "Annotation refers to the process of adding supplemental information onto a sequence (nucleotide or protein) so that we can better understand the underlying function/purpose of said sequence. This isn't an easy task due to the tremendous amount of processes needed to keep an organism alive. There's also the problem of mutations, a sequence may or may not change is function due to mutations, so we need to make sure the algorithms we use are robust enough to take mutations into consideration.\n",
    "\n",
    "To ensure that the programs we use for annotation can account for these mutations, databases for protein families such as <a href='https://pfam.xfam.org/'>Pfam</a> are maintained. Many of the annotation software in use, search our sequences against some advanced statistical models called HMMs, which are also maintained on <a href='https://pfam.xfam.org/'>Pfam</a>. We won't go over HMMs in this tutorial, but you should know that they're an important method for annotation."
   ]
  },
  {
   "cell_type": "markdown",
   "metadata": {},
   "source": [
    "## <a id='3.0'>Section 3 - Types of Annotation</a>\n",
    "\n",
    "### <a id='3.1'> Section 3.1 - Structural Annotation</a>\n",
    "\n",
    "Structural annotation refers to locating all of the coding regions in your sequence and trying to identify the genes in those coding regions. In this tutorial, we'll be using one of the most popular programs for prokaryotic genome annotation called PROKKA.\n",
    "\n",
    "PROKKA is a \"Pipeline\" or just a series of other programs that are strung together to process our data.\n",
    "\n",
    "<img src='img/tut03/prokka.jpg'></img>\n",
    "\n",
    "We're going to use PROKKA to annotate our `K12.fasta` file and we're going to save it in our `data/tut03/K12_annot` folder"
   ]
  },
  {
   "cell_type": "code",
   "execution_count": null,
   "metadata": {},
   "outputs": [],
   "source": [
    "!prokka K12.fasta --setupdb"
   ]
  },
  {
   "cell_type": "code",
   "execution_count": null,
   "metadata": {},
   "outputs": [],
   "source": [
    "!prokka K12.fasta --outdir data/tut03/K12_annot"
   ]
  },
  {
   "cell_type": "markdown",
   "metadata": {},
   "source": [
    "Now that we have annotated the genes in our `K12.fasta` we can extract the genes that were found using this command below and save it as `genelist.txt`...\n",
    "\n",
    "(FYI to run this command in Jupyter you need to open up a terminal window)"
   ]
  },
  {
   "cell_type": "code",
   "execution_count": null,
   "metadata": {},
   "outputs": [],
   "source": [
    "!cut -d$'\\t' -f4 data/tut03/K12_annot/*.tsv | uniq >genelist.txt"
   ]
  },
  {
   "cell_type": "markdown",
   "metadata": {},
   "source": [
    "### <a id='3.2'> Section 3.2 - Functional Annotation</a>\n",
    "\n",
    "Functional Annotation allows us to gauge the function of the proteins in our sequence. This is a very useful if you want to identify any unique behaviours in your sample. An example of this could be if you want to identify whether your E. coli sample is pathogenic. It could also provide you with a summary of how your bacteria behaves in a sample. \n",
    "\n",
    "To do this we're going to use the ever popular <a href='http://www.geneontology.org/'>Gene Ontology Consortium</a>.\n",
    "\n",
    "We need to download our `genelist.txt` file and copy the genes into the website."
   ]
  },
  {
   "cell_type": "code",
   "execution_count": null,
   "metadata": {},
   "outputs": [],
   "source": []
  },
  {
   "cell_type": "markdown",
   "metadata": {},
   "source": [
    "For the next tutorial, we'll take all of our annotated files and perform some comparative genomics!"
   ]
  },
  {
   "cell_type": "code",
   "execution_count": null,
   "metadata": {},
   "outputs": [],
   "source": []
  }
 ],
 "metadata": {
  "kernelspec": {
   "display_name": "Python 3",
   "language": "python",
   "name": "python3"
  },
  "language_info": {
   "codemirror_mode": {
    "name": "ipython",
    "version": 3
   },
   "file_extension": ".py",
   "mimetype": "text/x-python",
   "name": "python",
   "nbconvert_exporter": "python",
   "pygments_lexer": "ipython3",
   "version": "3.7.1"
  }
 },
 "nbformat": 4,
 "nbformat_minor": 2
}
